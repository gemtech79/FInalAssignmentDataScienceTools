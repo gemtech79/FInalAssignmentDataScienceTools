{
 "cells": [
  {
   "cell_type": "markdown",
   "id": "e28c795a-000c-426c-b128-b96e8207afe9",
   "metadata": {},
   "source": [
    "# Data Science Tools and EcoSystem"
   ]
  },
  {
   "cell_type": "markdown",
   "id": "6d2a5142-1896-4de3-9874-6755724330f4",
   "metadata": {},
   "source": [
    "In this notebook, Data Science Tools and Ecosystem are summarized."
   ]
  },
  {
   "cell_type": "markdown",
   "id": "f918e7f4-18b7-4757-8175-5b5169b24cbb",
   "metadata": {},
   "source": [
    "Some of the popular languages used by Data Scientists are:\n",
    "1. Python\n",
    "2. R\n",
    "3. SQL"
   ]
  },
  {
   "cell_type": "markdown",
   "id": "cd737217-3663-40e0-9d39-6c4558ab4180",
   "metadata": {},
   "source": [
    "Some of the commonly used libraries used by Data Scientists include:\n",
    "1. Pandas\n",
    "2. Matplotlib\n",
    "3. Numpy"
   ]
  },
  {
   "cell_type": "markdown",
   "id": "8283f4b8-8834-4b90-81e4-5973f8e35882",
   "metadata": {},
   "source": [
    "| Data Science Tools |\n",
    "|--------------------|\n",
    "| RStudio |\n",
    "| Jupyter Notebook | \n",
    "| IBM Watson Studio |"
   ]
  },
  {
   "cell_type": "markdown",
   "id": "679d7a9b-1c64-425c-a556-3bc2e920ddd1",
   "metadata": {},
   "source": [
    "### Below are a few examples of evaluating arithmetic expressions in Python."
   ]
  },
  {
   "cell_type": "code",
   "execution_count": 2,
   "id": "a05bca80-015e-4314-ae8c-742ebc4c1e82",
   "metadata": {},
   "outputs": [
    {
     "data": {
      "text/plain": [
       "17"
      ]
     },
     "execution_count": 2,
     "metadata": {},
     "output_type": "execute_result"
    }
   ],
   "source": [
    "# This is a simple arithmetic expression to multiply then add integers\n",
    "(3*4)+5"
   ]
  },
  {
   "cell_type": "code",
   "execution_count": 3,
   "id": "73611e01-7e4e-4a6f-aea4-be0379c098d0",
   "metadata": {},
   "outputs": [
    {
     "data": {
      "text/plain": [
       "3.3333333333333335"
      ]
     },
     "execution_count": 3,
     "metadata": {},
     "output_type": "execute_result"
    }
   ],
   "source": [
    "#This will convert 200 minutes to hours by diving by 60\n",
    "200/60"
   ]
  },
  {
   "cell_type": "markdown",
   "id": "37b5bde6-8c4b-4230-919c-6773a980d5a4",
   "metadata": {},
   "source": [
    "**Objectives:**\n",
    "\n",
    "- Popular data science languages\n",
    "- Commonly used libraries by Data Scientists\n",
    "- Create tables of popular Data Science tools\n",
    "- Arithmetic expressions in Python\n",
    "- Convert minutes into hours in Python using Code cells\n",
    "- Learnt about Markeddown and Code\n"
   ]
  },
  {
   "cell_type": "markdown",
   "id": "f0ce7ebe-176a-4a54-9c7f-ad89d99ff864",
   "metadata": {},
   "source": [
    "## Author\n",
    "Muhammad Waqas"
   ]
  },
  {
   "cell_type": "code",
   "execution_count": null,
   "id": "a4419827-c88a-44d5-bc86-b0c0f1cb23b1",
   "metadata": {},
   "outputs": [],
   "source": []
  }
 ],
 "metadata": {
  "kernelspec": {
   "display_name": "Python 3 (ipykernel)",
   "language": "python",
   "name": "python3"
  },
  "language_info": {
   "codemirror_mode": {
    "name": "ipython",
    "version": 3
   },
   "file_extension": ".py",
   "mimetype": "text/x-python",
   "name": "python",
   "nbconvert_exporter": "python",
   "pygments_lexer": "ipython3",
   "version": "3.13.5"
  }
 },
 "nbformat": 4,
 "nbformat_minor": 5
}
